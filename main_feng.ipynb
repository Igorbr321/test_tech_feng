{
 "cells": [
  {
   "cell_type": "markdown",
   "metadata": {},
   "source": [
    "# TESTE TÉCNICO - FENG"
   ]
  },
  {
   "cell_type": "markdown",
   "metadata": {},
   "source": [
    "## Comunicação - MYSQL Workbench"
   ]
  },
  {
   "cell_type": "code",
   "execution_count": 15,
   "metadata": {},
   "outputs": [],
   "source": [
    "from functions import conectar_mysql, ler_arquivo_xlsx, inserir_dados\n",
    "import getpass\n",
    "import pandas as pd"
   ]
  },
  {
   "cell_type": "code",
   "execution_count": 16,
   "metadata": {},
   "outputs": [
    {
     "name": "stdout",
     "output_type": "stream",
     "text": [
      "Senha foi capturada com sucesso!\n"
     ]
    }
   ],
   "source": [
    "# Segurança para a senha do banco\n",
    "senha = getpass.getpass(\"Digite sua senha: \")\n",
    "\n",
    "print(\"Senha foi capturada com sucesso!\")"
   ]
  },
  {
   "cell_type": "code",
   "execution_count": 17,
   "metadata": {},
   "outputs": [],
   "source": [
    "# Informações de conexão\n",
    "host = '127.0.0.1'\n",
    "user = 'root'\n",
    "password = senha  \n",
    "database = 'feng'"
   ]
  },
  {
   "cell_type": "code",
   "execution_count": 18,
   "metadata": {},
   "outputs": [
    {
     "name": "stdout",
     "output_type": "stream",
     "text": [
      "Conexão estabelecida com sucesso!\n"
     ]
    }
   ],
   "source": [
    "conn = conectar_mysql(host, user, password, database)"
   ]
  },
  {
   "cell_type": "markdown",
   "metadata": {},
   "source": [
    "## Leitura dos arquivos .xslx e inserindo os dados na tabela do MYSQL Workbench"
   ]
  },
  {
   "cell_type": "code",
   "execution_count": 19,
   "metadata": {},
   "outputs": [
    {
     "name": "stdout",
     "output_type": "stream",
     "text": [
      "Arquivo lido com sucesso!\n",
      "Arquivo lido com sucesso!\n",
      "Arquivo lido com sucesso!\n"
     ]
    }
   ],
   "source": [
    "base_assinantes = ler_arquivo_xlsx(r'C:\\Users\\Usuario\\Downloads\\teste-tecnico-feng\\.xslx\\Base_Assinantes.xlsx')\n",
    "base_cobrancas = ler_arquivo_xlsx(r'C:\\Users\\Usuario\\Downloads\\teste-tecnico-feng\\.xslx\\Base_Cobranças.xlsx')\n",
    "base_contratos = ler_arquivo_xlsx(r'C:\\Users\\Usuario\\Downloads\\teste-tecnico-feng\\.xslx\\Base_Contratos.xlsx')"
   ]
  },
  {
   "cell_type": "code",
   "execution_count": 20,
   "metadata": {},
   "outputs": [
    {
     "name": "stdout",
     "output_type": "stream",
     "text": [
      "Dados inseridos com sucesso!\n"
     ]
    }
   ],
   "source": [
    "inserir_dados(conn, base_assinantes, 'base_assinantes')"
   ]
  },
  {
   "cell_type": "code",
   "execution_count": 21,
   "metadata": {},
   "outputs": [],
   "source": [
    "# A coluna ´DATA_FINAL´ do df base_contratos estava como object, mudando para datetime\n",
    "base_contratos['DATA_FINAL'] = pd.to_datetime(base_contratos['DATA_FINAL'], format=\"%d/%m/%Y %H:%M\", errors='coerce')"
   ]
  },
  {
   "cell_type": "code",
   "execution_count": 22,
   "metadata": {},
   "outputs": [
    {
     "name": "stdout",
     "output_type": "stream",
     "text": [
      "Dados inseridos com sucesso!\n"
     ]
    }
   ],
   "source": [
    "inserir_dados(conn, base_contratos, 'base_contratos')"
   ]
  },
  {
   "cell_type": "code",
   "execution_count": 23,
   "metadata": {},
   "outputs": [
    {
     "name": "stdout",
     "output_type": "stream",
     "text": [
      "Dados inseridos com sucesso!\n"
     ]
    }
   ],
   "source": [
    "inserir_dados(conn, base_cobrancas, 'base_cobrancas')"
   ]
  }
 ],
 "metadata": {
  "kernelspec": {
   "display_name": "Python 3",
   "language": "python",
   "name": "python3"
  },
  "language_info": {
   "codemirror_mode": {
    "name": "ipython",
    "version": 3
   },
   "file_extension": ".py",
   "mimetype": "text/x-python",
   "name": "python",
   "nbconvert_exporter": "python",
   "pygments_lexer": "ipython3",
   "version": "3.13.1"
  }
 },
 "nbformat": 4,
 "nbformat_minor": 2
}
